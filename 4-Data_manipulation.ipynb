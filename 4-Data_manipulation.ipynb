{
 "cells": [
  {
   "cell_type": "markdown",
   "metadata": {},
   "source": [
    "**Brief Honor Code**. Do the homework on your own. You may discuss ideas with your classmates, but DO NOT copy the solutions from someone else or the Internet. If stuck, discuss with TA."
   ]
  },
  {
   "cell_type": "code",
   "execution_count": 1,
   "metadata": {},
   "outputs": [],
   "source": [
    "%matplotlib inline\n",
    "import toolz.curried as c\n",
    "import matplotlib.pyplot as plt\n",
    "import numpy as np\n",
    "import pandas as pd\n",
    "import string\n",
    "import toolz as tz"
   ]
  },
  {
   "cell_type": "markdown",
   "metadata": {},
   "source": [
    "**1**. (10 points)\n",
    "\n",
    "Write a function `pdsist(xs)` which returns a matrix of the pairwise distance between the collection of vectors in `xs` using Euclidean distance.\n",
    "\n",
    "Recall that Euclidean distance between two vectors $x$ and $y$ is\n",
    "\n",
    "$$\n",
    "d(x, y) = \\sqrt{\\sum{(y-x)^2}}\n",
    "$$ \n",
    "\n",
    "Find the square distance matrix for\n",
    "```python\n",
    "xs = np.array([[0.20981496, 0.54777461, 0.9398527 ],\n",
    "       [0.63149939, 0.935947  , 0.29834026],\n",
    "       [0.46302941, 0.25515557, 0.0698739 ],\n",
    "       [0.38192644, 0.42378508, 0.26055664],\n",
    "       [0.46307302, 0.05943961, 0.60204931]])\n",
    "```\n",
    "\n",
    "Do this **without** using any for loops."
   ]
  },
  {
   "cell_type": "code",
   "execution_count": 2,
   "metadata": {},
   "outputs": [
    {
     "data": {
      "text/plain": [
       "(5, 3, 5)"
      ]
     },
     "execution_count": 2,
     "metadata": {},
     "output_type": "execute_result"
    }
   ],
   "source": [
    "xs = np.array([[0.20981496, 0.54777461, 0.9398527 ],\n",
    "       [0.63149939, 0.935947  , 0.29834026],\n",
    "       [0.46302941, 0.25515557, 0.0698739 ],\n",
    "       [0.38192644, 0.42378508, 0.26055664],\n",
    "       [0.46307302, 0.05943961, 0.60204931]])\n",
    "y = xs[:, :, None] - xs[:, :, None].T\n",
    "y.shape"
   ]
  },
  {
   "cell_type": "code",
   "execution_count": 3,
   "metadata": {},
   "outputs": [
    {
     "data": {
      "text/plain": [
       "array([[ 0,  7],\n",
       "       [ 3, 11],\n",
       "       [ 5, 25]])"
      ]
     },
     "execution_count": 3,
     "metadata": {},
     "output_type": "execute_result"
    }
   ],
   "source": [
    "x = np.array([0,3,5,7,11,25]).reshape(2,3)\n",
    "x.T"
   ]
  },
  {
   "cell_type": "code",
   "execution_count": 4,
   "metadata": {},
   "outputs": [
    {
     "data": {
      "text/plain": [
       "array([[[ 0],\n",
       "        [ 3],\n",
       "        [ 5]],\n",
       "\n",
       "       [[ 7],\n",
       "        [11],\n",
       "        [25]]])"
      ]
     },
     "execution_count": 4,
     "metadata": {},
     "output_type": "execute_result"
    }
   ],
   "source": [
    "x[:, :, None]"
   ]
  },
  {
   "cell_type": "code",
   "execution_count": 5,
   "metadata": {},
   "outputs": [
    {
     "data": {
      "text/plain": [
       "array([[[ 0,  7],\n",
       "        [ 3, 11],\n",
       "        [ 5, 25]]])"
      ]
     },
     "execution_count": 5,
     "metadata": {},
     "output_type": "execute_result"
    }
   ],
   "source": [
    "x[:, :, None].T"
   ]
  },
  {
   "cell_type": "code",
   "execution_count": 6,
   "metadata": {},
   "outputs": [
    {
     "data": {
      "text/plain": [
       "array([[[  0,  -7],\n",
       "        [  0,  -8],\n",
       "        [  0, -20]],\n",
       "\n",
       "       [[  7,   0],\n",
       "        [  8,   0],\n",
       "        [ 20,   0]]])"
      ]
     },
     "execution_count": 6,
     "metadata": {},
     "output_type": "execute_result"
    }
   ],
   "source": [
    "(x[:, :, None] - x[:, :, None].T)"
   ]
  },
  {
   "cell_type": "code",
   "execution_count": 7,
   "metadata": {},
   "outputs": [
    {
     "data": {
      "text/plain": [
       "array([[ 0.20981496,  0.54777461,  0.9398527 ],\n",
       "       [ 0.63149939,  0.935947  ,  0.29834026],\n",
       "       [ 0.46302941,  0.25515557,  0.0698739 ],\n",
       "       [ 0.38192644,  0.42378508,  0.26055664],\n",
       "       [ 0.46307302,  0.05943961,  0.60204931]])"
      ]
     },
     "execution_count": 7,
     "metadata": {},
     "output_type": "execute_result"
    }
   ],
   "source": [
    "xs"
   ]
  },
  {
   "cell_type": "code",
   "execution_count": 8,
   "metadata": {},
   "outputs": [
    {
     "data": {
      "text/plain": [
       "array([[[ 0.20981496],\n",
       "        [ 0.54777461],\n",
       "        [ 0.9398527 ]],\n",
       "\n",
       "       [[ 0.63149939],\n",
       "        [ 0.935947  ],\n",
       "        [ 0.29834026]],\n",
       "\n",
       "       [[ 0.46302941],\n",
       "        [ 0.25515557],\n",
       "        [ 0.0698739 ]],\n",
       "\n",
       "       [[ 0.38192644],\n",
       "        [ 0.42378508],\n",
       "        [ 0.26055664]],\n",
       "\n",
       "       [[ 0.46307302],\n",
       "        [ 0.05943961],\n",
       "        [ 0.60204931]]])"
      ]
     },
     "execution_count": 8,
     "metadata": {},
     "output_type": "execute_result"
    }
   ],
   "source": [
    "(xs[:, :, None])"
   ]
  },
  {
   "cell_type": "code",
   "execution_count": 9,
   "metadata": {},
   "outputs": [
    {
     "data": {
      "text/plain": [
       "array([[[ 0.20981496,  0.63149939,  0.46302941,  0.38192644,  0.46307302],\n",
       "        [ 0.54777461,  0.935947  ,  0.25515557,  0.42378508,  0.05943961],\n",
       "        [ 0.9398527 ,  0.29834026,  0.0698739 ,  0.26055664,  0.60204931]]])"
      ]
     },
     "execution_count": 9,
     "metadata": {},
     "output_type": "execute_result"
    }
   ],
   "source": [
    "xs[:, :, None].T"
   ]
  },
  {
   "cell_type": "code",
   "execution_count": 10,
   "metadata": {},
   "outputs": [
    {
     "data": {
      "text/plain": [
       "array([[ 0.33569732,  0.49014818,  1.74395559],\n",
       "       [ 0.29685399,  1.64472981,  0.55740188],\n",
       "       [ 0.09907739,  0.61584352,  1.12863056],\n",
       "       [ 0.10507148,  0.43886677,  0.61584789],\n",
       "       [ 0.09909186,  1.17778864,  0.60617823]])"
      ]
     },
     "execution_count": 10,
     "metadata": {},
     "output_type": "execute_result"
    }
   ],
   "source": [
    "(y**2).sum(2)"
   ]
  },
  {
   "cell_type": "code",
   "execution_count": 11,
   "metadata": {},
   "outputs": [
    {
     "data": {
      "text/plain": [
       "array([[[  0.00000000e+00,  -4.21684430e-01,  -2.53214450e-01,\n",
       "          -1.72111480e-01,  -2.53258060e-01],\n",
       "        [  0.00000000e+00,  -3.88172390e-01,   2.92619040e-01,\n",
       "           1.23989530e-01,   4.88335000e-01],\n",
       "        [  0.00000000e+00,   6.41512440e-01,   8.69978800e-01,\n",
       "           6.79296060e-01,   3.37803390e-01]],\n",
       "\n",
       "       [[  4.21684430e-01,   0.00000000e+00,   1.68469980e-01,\n",
       "           2.49572950e-01,   1.68426370e-01],\n",
       "        [  3.88172390e-01,   0.00000000e+00,   6.80791430e-01,\n",
       "           5.12161920e-01,   8.76507390e-01],\n",
       "        [ -6.41512440e-01,   0.00000000e+00,   2.28466360e-01,\n",
       "           3.77836200e-02,  -3.03709050e-01]],\n",
       "\n",
       "       [[  2.53214450e-01,  -1.68469980e-01,   0.00000000e+00,\n",
       "           8.11029700e-02,  -4.36100000e-05],\n",
       "        [ -2.92619040e-01,  -6.80791430e-01,   0.00000000e+00,\n",
       "          -1.68629510e-01,   1.95715960e-01],\n",
       "        [ -8.69978800e-01,  -2.28466360e-01,   0.00000000e+00,\n",
       "          -1.90682740e-01,  -5.32175410e-01]],\n",
       "\n",
       "       [[  1.72111480e-01,  -2.49572950e-01,  -8.11029700e-02,\n",
       "           0.00000000e+00,  -8.11465800e-02],\n",
       "        [ -1.23989530e-01,  -5.12161920e-01,   1.68629510e-01,\n",
       "           0.00000000e+00,   3.64345470e-01],\n",
       "        [ -6.79296060e-01,  -3.77836200e-02,   1.90682740e-01,\n",
       "           0.00000000e+00,  -3.41492670e-01]],\n",
       "\n",
       "       [[  2.53258060e-01,  -1.68426370e-01,   4.36100000e-05,\n",
       "           8.11465800e-02,   0.00000000e+00],\n",
       "        [ -4.88335000e-01,  -8.76507390e-01,  -1.95715960e-01,\n",
       "          -3.64345470e-01,   0.00000000e+00],\n",
       "        [ -3.37803390e-01,   3.03709050e-01,   5.32175410e-01,\n",
       "           3.41492670e-01,   0.00000000e+00]]])"
      ]
     },
     "execution_count": 11,
     "metadata": {},
     "output_type": "execute_result"
    }
   ],
   "source": [
    "y"
   ]
  },
  {
   "cell_type": "code",
   "execution_count": 12,
   "metadata": {},
   "outputs": [
    {
     "data": {
      "text/plain": [
       "array([ 8, 43])"
      ]
     },
     "execution_count": 12,
     "metadata": {},
     "output_type": "execute_result"
    }
   ],
   "source": [
    "x.sum(axis = -1)"
   ]
  },
  {
   "cell_type": "code",
   "execution_count": 13,
   "metadata": {},
   "outputs": [
    {
     "data": {
      "text/plain": [
       "array([[ 0,  3,  5],\n",
       "       [ 7, 11, 25]])"
      ]
     },
     "execution_count": 13,
     "metadata": {},
     "output_type": "execute_result"
    }
   ],
   "source": [
    "x"
   ]
  },
  {
   "cell_type": "code",
   "execution_count": 14,
   "metadata": {},
   "outputs": [],
   "source": [
    "xs = np.array([[0.20981496, 0.54777461, 0.9398527 ],\n",
    "       [0.63149939, 0.935947  , 0.29834026],\n",
    "       [0.46302941, 0.25515557, 0.0698739 ],\n",
    "       [0.38192644, 0.42378508, 0.26055664],\n",
    "       [0.46307302, 0.05943961, 0.60204931]])\n"
   ]
  },
  {
   "cell_type": "code",
   "execution_count": 15,
   "metadata": {},
   "outputs": [],
   "source": [
    "def pdsist(xs):\n",
    "    '''\n",
    "    calculate the distance matrix\n",
    "    '''\n",
    "    df= xs[:, :, None] - xs[:, :, None].T\n",
    "    sq = df **2\n",
    "    sm = sq.sum(1)\n",
    "    ans = np.sqrt(sm)\n",
    "    return ans"
   ]
  },
  {
   "cell_type": "code",
   "execution_count": 16,
   "metadata": {},
   "outputs": [
    {
     "data": {
      "text/plain": [
       "array([[ 0.        ,  0.86025216,  0.9521589 ,  0.71164521,  0.64553997],\n",
       "       [ 0.86025216,  0.        ,  0.73760151,  0.57098519,  0.9428    ],\n",
       "       [ 0.9521589 ,  0.73760151,  0.        ,  0.26715821,  0.56702329],\n",
       "       [ 0.71164521,  0.57098519,  0.26715821,  0.        ,  0.50591465],\n",
       "       [ 0.64553997,  0.9428    ,  0.56702329,  0.50591465,  0.        ]])"
      ]
     },
     "execution_count": 16,
     "metadata": {},
     "output_type": "execute_result"
    }
   ],
   "source": [
    "pdsist(xs)"
   ]
  },
  {
   "cell_type": "markdown",
   "metadata": {},
   "source": [
    "**2**. (20 points)\n",
    "\n",
    "Wikipedia gives this algorithm for finding prime numbers\n",
    "\n",
    "To find all the prime numbers less than or equal to a given integer n by Eratosthenes' method:\n",
    "\n",
    "- Create a list of consecutive integers from 2 through n: (2, 3, 4, ..., n).\n",
    "- Initially, let p equal 2, the smallest prime number.\n",
    "- Enumerate the multiples of p by counting to n from 2p in increments of p, and mark them in the list (these will be 2p, 3p, 4p, ...; the p itself should not be marked).\n",
    "- Find the first number greater than p in the list that is not marked. If there was no such number, stop. Otherwise, let p now equal this new number (which is the next prime), and repeat from step 3.\n",
    "- When the algorithm terminates, the numbers remaining not marked in the list are all the primes below n.\n",
    "\n",
    "Find all primes less than 1,000 using this method.\n",
    "\n",
    "- You may use `numpy` and do not have to follow the algorithm exactly if you can achieve the same results."
   ]
  },
  {
   "cell_type": "code",
   "execution_count": 17,
   "metadata": {},
   "outputs": [],
   "source": [
    "a = range(2,1000)\n",
    "b = []\n",
    "c = a\n",
    "\n",
    "while(c[0] < np.sqrt(1000)):\n",
    "    first = c[0]\n",
    "    b += [first]\n",
    "    c = [x for x in c if x%first !=0]\n",
    "\n",
    "allprime = b+c"
   ]
  },
  {
   "cell_type": "code",
   "execution_count": 18,
   "metadata": {},
   "outputs": [
    {
     "name": "stdout",
     "output_type": "stream",
     "text": [
      "[2, 3, 5, 7, 11, 13, 17, 19, 23, 29, 31, 37, 41, 43, 47, 53, 59, 61, 67, 71, 73, 79, 83, 89, 97, 101, 103, 107, 109, 113, 127, 131, 137, 139, 149, 151, 157, 163, 167, 173, 179, 181, 191, 193, 197, 199, 211, 223, 227, 229, 233, 239, 241, 251, 257, 263, 269, 271, 277, 281, 283, 293, 307, 311, 313, 317, 331, 337, 347, 349, 353, 359, 367, 373, 379, 383, 389, 397, 401, 409, 419, 421, 431, 433, 439, 443, 449, 457, 461, 463, 467, 479, 487, 491, 499, 503, 509, 521, 523, 541, 547, 557, 563, 569, 571, 577, 587, 593, 599, 601, 607, 613, 617, 619, 631, 641, 643, 647, 653, 659, 661, 673, 677, 683, 691, 701, 709, 719, 727, 733, 739, 743, 751, 757, 761, 769, 773, 787, 797, 809, 811, 821, 823, 827, 829, 839, 853, 857, 859, 863, 877, 881, 883, 887, 907, 911, 919, 929, 937, 941, 947, 953, 967, 971, 977, 983, 991, 997]\n"
     ]
    }
   ],
   "source": [
    "print(allprime)"
   ]
  },
  {
   "cell_type": "markdown",
   "metadata": {},
   "source": [
    "**3**. (20 points)\n",
    "\n",
    "- Load the `iris` data set from R into a `pandas` DataFrame and create a new DataFrame `iris_scaled` where each feature (column) has zero mean and unit standard deviation (5)\n",
    "- Calculate a pairwise distance matrix (using Euclidean distance) of the normalized features for each flower using the function you wrote in **1** (5)\n",
    "- Using `seaborn`, plot a `clustermap` of the original `iris` data, with row color labels for the Species (5)\n",
    "![clustermap](figs/iris_clustermap.png) \n",
    "- Using a single `seaborn` function, make a 2 by 2 grid of boxplots for each feature to compare across iris species. The y-axis scale need not be the same across subplots. (5)\n",
    "![boxplots](figs/iris_boxplots.png)"
   ]
  },
  {
   "cell_type": "code",
   "execution_count": 19,
   "metadata": {},
   "outputs": [],
   "source": [
    "%load_ext rpy2.ipython"
   ]
  },
  {
   "cell_type": "code",
   "execution_count": 20,
   "metadata": {},
   "outputs": [],
   "source": [
    "%R -o iris"
   ]
  },
  {
   "cell_type": "code",
   "execution_count": 21,
   "metadata": {},
   "outputs": [],
   "source": [
    "#from sklearn import preprocessing\n",
    "#scaler = preprocessing.StandardScaler().fit(iris.iloc[:,0:4])\n",
    "#firstpart = scaler.transform(iris.iloc[:,0:4])    \n",
    "firstpart = (iris.iloc[:,:4]- iris.mean(axis=0)) / iris.std(axis=0)\n",
    "iris_scaled = pd.concat([pd.DataFrame(firstpart).reset_index(drop = True), \n",
    "                         iris.iloc[:,4].reset_index(drop = True)], axis = 1)\n",
    "iris_scaled.columns = iris.columns"
   ]
  },
  {
   "cell_type": "code",
   "execution_count": 22,
   "metadata": {},
   "outputs": [
    {
     "data": {
      "text/html": [
       "<div>\n",
       "<style scoped>\n",
       "    .dataframe tbody tr th:only-of-type {\n",
       "        vertical-align: middle;\n",
       "    }\n",
       "\n",
       "    .dataframe tbody tr th {\n",
       "        vertical-align: top;\n",
       "    }\n",
       "\n",
       "    .dataframe thead th {\n",
       "        text-align: right;\n",
       "    }\n",
       "</style>\n",
       "<table border=\"1\" class=\"dataframe\">\n",
       "  <thead>\n",
       "    <tr style=\"text-align: right;\">\n",
       "      <th></th>\n",
       "      <th>Sepal.Length</th>\n",
       "      <th>Sepal.Width</th>\n",
       "      <th>Petal.Length</th>\n",
       "      <th>Petal.Width</th>\n",
       "      <th>Species</th>\n",
       "    </tr>\n",
       "  </thead>\n",
       "  <tbody>\n",
       "    <tr>\n",
       "      <th>0</th>\n",
       "      <td>-0.897674</td>\n",
       "      <td>1.015602</td>\n",
       "      <td>-1.335752</td>\n",
       "      <td>-1.311052</td>\n",
       "      <td>setosa</td>\n",
       "    </tr>\n",
       "    <tr>\n",
       "      <th>1</th>\n",
       "      <td>-1.139200</td>\n",
       "      <td>-0.131539</td>\n",
       "      <td>-1.335752</td>\n",
       "      <td>-1.311052</td>\n",
       "      <td>setosa</td>\n",
       "    </tr>\n",
       "    <tr>\n",
       "      <th>2</th>\n",
       "      <td>-1.380727</td>\n",
       "      <td>0.327318</td>\n",
       "      <td>-1.392399</td>\n",
       "      <td>-1.311052</td>\n",
       "      <td>setosa</td>\n",
       "    </tr>\n",
       "    <tr>\n",
       "      <th>3</th>\n",
       "      <td>-1.501490</td>\n",
       "      <td>0.097889</td>\n",
       "      <td>-1.279104</td>\n",
       "      <td>-1.311052</td>\n",
       "      <td>setosa</td>\n",
       "    </tr>\n",
       "    <tr>\n",
       "      <th>4</th>\n",
       "      <td>-1.018437</td>\n",
       "      <td>1.245030</td>\n",
       "      <td>-1.335752</td>\n",
       "      <td>-1.311052</td>\n",
       "      <td>setosa</td>\n",
       "    </tr>\n",
       "  </tbody>\n",
       "</table>\n",
       "</div>"
      ],
      "text/plain": [
       "   Sepal.Length  Sepal.Width  Petal.Length  Petal.Width Species\n",
       "0     -0.897674     1.015602     -1.335752    -1.311052  setosa\n",
       "1     -1.139200    -0.131539     -1.335752    -1.311052  setosa\n",
       "2     -1.380727     0.327318     -1.392399    -1.311052  setosa\n",
       "3     -1.501490     0.097889     -1.279104    -1.311052  setosa\n",
       "4     -1.018437     1.245030     -1.335752    -1.311052  setosa"
      ]
     },
     "execution_count": 22,
     "metadata": {},
     "output_type": "execute_result"
    }
   ],
   "source": [
    "iris_scaled.head()"
   ]
  },
  {
   "cell_type": "code",
   "execution_count": 23,
   "metadata": {},
   "outputs": [],
   "source": [
    "xst = np.array(iris_scaled.iloc[:,:4])"
   ]
  },
  {
   "cell_type": "code",
   "execution_count": 24,
   "metadata": {},
   "outputs": [
    {
     "name": "stdout",
     "output_type": "stream",
     "text": [
      "[[ 0.          1.1722914   0.84278401 ...,  3.79270577  3.81338223\n",
      "   3.32392896]\n",
      " [ 1.1722914   0.          0.52162552 ...,  3.73412795  4.00393113\n",
      "   3.20274689]\n",
      " [ 0.84278401  0.52162552  0.         ...,  3.92339738  4.05911739\n",
      "   3.36904951]\n",
      " ..., \n",
      " [ 3.79270577  3.73412795  3.92339738 ...,  0.          1.06826493\n",
      "   0.77270365]\n",
      " [ 3.81338223  4.00393113  4.05911739 ...,  1.06826493  0.          1.19692065]\n",
      " [ 3.32392896  3.20274689  3.36904951 ...,  0.77270365  1.19692065  0.        ]]\n"
     ]
    }
   ],
   "source": [
    "print(pdsist(xst))"
   ]
  },
  {
   "cell_type": "code",
   "execution_count": 25,
   "metadata": {},
   "outputs": [
    {
     "data": {
      "image/png": "[encoded data removed]",
      "text/plain": [
       "<matplotlib.figure.Figure at 0x7f5f077d6630>"
      ]
     },
     "metadata": {},
     "output_type": "display_data"
    }
   ],
   "source": [
    "%R -o iris\n",
    "import seaborn as sns \n",
    "sns.set(color_codes = True)\n",
    "species = iris.pop('Species')\n",
    "species_pal = sns.light_palette('blue', len(species.unique()))\n",
    "\n",
    "lut = dict(zip(species.unique(), species_pal))\n",
    "row_colors = species.map(lut)\n",
    "g = sns.clustermap(iris, row_colors = row_colors)"
   ]
  },
  {
   "cell_type": "code",
   "execution_count": 26,
   "metadata": {},
   "outputs": [],
   "source": [
    "%R -o iris\n",
    "#df = pd.DataFrame(iris).reset_index(drop = False)\n",
    "df = pd.melt(iris, id_vars= [ \"Species\"])"
   ]
  },
  {
   "cell_type": "code",
   "execution_count": 27,
   "metadata": {},
   "outputs": [
    {
     "data": {
      "text/html": [
       "<div>\n",
       "<style scoped>\n",
       "    .dataframe tbody tr th:only-of-type {\n",
       "        vertical-align: middle;\n",
       "    }\n",
       "\n",
       "    .dataframe tbody tr th {\n",
       "        vertical-align: top;\n",
       "    }\n",
       "\n",
       "    .dataframe thead th {\n",
       "        text-align: right;\n",
       "    }\n",
       "</style>\n",
       "<table border=\"1\" class=\"dataframe\">\n",
       "  <thead>\n",
       "    <tr style=\"text-align: right;\">\n",
       "      <th></th>\n",
       "      <th>Species</th>\n",
       "      <th>variable</th>\n",
       "      <th>value</th>\n",
       "    </tr>\n",
       "  </thead>\n",
       "  <tbody>\n",
       "    <tr>\n",
       "      <th>0</th>\n",
       "      <td>setosa</td>\n",
       "      <td>Sepal.Length</td>\n",
       "      <td>5.1</td>\n",
       "    </tr>\n",
       "    <tr>\n",
       "      <th>1</th>\n",
       "      <td>setosa</td>\n",
       "      <td>Sepal.Length</td>\n",
       "      <td>4.9</td>\n",
       "    </tr>\n",
       "    <tr>\n",
       "      <th>2</th>\n",
       "      <td>setosa</td>\n",
       "      <td>Sepal.Length</td>\n",
       "      <td>4.7</td>\n",
       "    </tr>\n",
       "    <tr>\n",
       "      <th>3</th>\n",
       "      <td>setosa</td>\n",
       "      <td>Sepal.Length</td>\n",
       "      <td>4.6</td>\n",
       "    </tr>\n",
       "    <tr>\n",
       "      <th>4</th>\n",
       "      <td>setosa</td>\n",
       "      <td>Sepal.Length</td>\n",
       "      <td>5.0</td>\n",
       "    </tr>\n",
       "  </tbody>\n",
       "</table>\n",
       "</div>"
      ],
      "text/plain": [
       "  Species      variable  value\n",
       "0  setosa  Sepal.Length    5.1\n",
       "1  setosa  Sepal.Length    4.9\n",
       "2  setosa  Sepal.Length    4.7\n",
       "3  setosa  Sepal.Length    4.6\n",
       "4  setosa  Sepal.Length    5.0"
      ]
     },
     "execution_count": 27,
     "metadata": {},
     "output_type": "execute_result"
    }
   ],
   "source": [
    "df.head()"
   ]
  },
  {
   "cell_type": "code",
   "execution_count": 28,
   "metadata": {},
   "outputs": [
    {
     "data": {
      "image/png": "[encoded data removed]",
      "text/plain": [
       "<matplotlib.figure.Figure at 0x7f5f016b7be0>"
      ]
     },
     "metadata": {},
     "output_type": "display_data"
    }
   ],
   "source": [
    "g = sns.factorplot(x= \"Species\", y = \"value\", col = \"variable\", data= df, kind = \"box\", col_wrap = 2, sharey = False)"
   ]
  },
  {
   "cell_type": "markdown",
   "metadata": {},
   "source": [
    ". (50 points)\n",
    "\n",
    "This is an example of the messiness of real-life data munging, using a (truncated and randomized) data set provided by an HIV researcher. In this data set, HIV-positive subjects were tested for sexually transmitted infections (STI) at each visit (and treated if they were positive).\n",
    "\n",
    "You will probably need to review the pandas documentation and examples carefully to complete this exercise.\n",
    "\n",
    "The file 'hiv.csv' contains data the HIV subjects. The variables are\n",
    "\n",
    "PID: A randomly generated patient ID\n",
    "Race: The race of the subject as a single letter code\n",
    "Age: The age of the subject at study entry\n",
    "Visit Date: Date of visit at which STI data was collected\n",
    "STIs: Type of STI detected if any\n",
    "The Race and Age of each subject are only recorded for the first visit.\n",
    "\n",
    "Objectives:\n",
    "\n",
    "Read the data set into a pandas DataFrame (5)\n",
    "Fill up the missing Race and Age values (5)\n",
    "Reclassify the STIs into one of the following categories ('none', 'syphilis', 'chlamydia', 'gonorrhea', 'HCV', NaN) by grouping in the obvious way. Note that 'none' means no infection and NaN (np.nan) means missing data. (10)\n",
    "FInd the subject(s) with the most number of visits (how many are there?) (5)\n",
    "Perform a chi-square test to see if an STI at the first visit is associated with the risk of an STI at any subsequent visit. You only need to do this for subjects who have more than 1 visit. You can use from scipy.stats import chi2_contingency to do the $\\chi^2$ test. (20)"
   ]
  },
  {
   "cell_type": "code",
   "execution_count": 29,
   "metadata": {},
   "outputs": [],
   "source": [
    "df5 = pd.read_csv(\"data/hiv.csv\", index_col = 0)"
   ]
  },
  {
   "cell_type": "code",
   "execution_count": 30,
   "metadata": {},
   "outputs": [],
   "source": [
    "df5[[\"Race\", \"Age\"]]=df5[[\"Race\", \"Age\"]].fillna(method = \"ffill\")"
   ]
  },
  {
   "cell_type": "code",
   "execution_count": 31,
   "metadata": {},
   "outputs": [],
   "source": [
    "def tran(x):\n",
    "    '''\n",
    "    transform variable/clean string formate\n",
    "    '''\n",
    "    if x is np.nan:\n",
    "        return x\n",
    "    elif \"-\" in x:\n",
    "        return x[:x.find('-')]\n",
    "    elif x == \"HCV\":\n",
    "        return x\n",
    "    else:\n",
    "        return x.lower()\n",
    "\n",
    "\n",
    "\n",
    "df5['STIs']=df5['STIs'].apply(tran)"
   ]
  },
  {
   "cell_type": "code",
   "execution_count": 32,
   "metadata": {},
   "outputs": [],
   "source": [
    "dict1 = tz.pipe(\n",
    "    df5.iloc[:,0],\n",
    "    tz.frequencies\n",
    ")"
   ]
  },
  {
   "cell_type": "code",
   "execution_count": 33,
   "metadata": {},
   "outputs": [
    {
     "name": "stdout",
     "output_type": "stream",
     "text": [
      "9963\n"
     ]
    }
   ],
   "source": [
    "freqvist = sorted(dict1, key=dict1.get, reverse = True)\n",
    "print(freqvist[0])"
   ]
  },
  {
   "cell_type": "code",
   "execution_count": null,
   "metadata": {},
   "outputs": [],
   "source": [
    "dict1[9963]"
   ]
  },
  {
   "cell_type": "markdown",
   "metadata": {},
   "source": [
    "The patient with ID 9963 visit the most, at the total of 16 times."
   ]
  },
  {
   "cell_type": "code",
   "execution_count": null,
   "metadata": {},
   "outputs": [],
   "source": [
    "result = df5.sort_values(by=['Visit Date'])\n",
    "result[\"type\"] = True\n",
    "result.loc[result.STIs.isin([np.nan, \"none\"]), \"type\"] = False"
   ]
  },
  {
   "cell_type": "code",
   "execution_count": null,
   "metadata": {},
   "outputs": [],
   "source": [
    "def countnum(pid):\n",
    "    '''\n",
    "    classify each patient into four categories\n",
    "    '''\n",
    "    global a,b,c,d\n",
    "    df6 = result\n",
    "    dt = df6[df6.PID== pid]\n",
    "    if dt[\"type\"].iloc[0]:\n",
    "        if dt[\"type\"].iloc[1:].any():\n",
    "            a +=1\n",
    "        else:\n",
    "            b +=1\n",
    "    else:\n",
    "        if dt[\"type\"].iloc[1:].any():\n",
    "            c +=1\n",
    "        else:\n",
    "            d +=1"
   ]
  },
  {
   "cell_type": "code",
   "execution_count": null,
   "metadata": {},
   "outputs": [],
   "source": [
    "uniqueid = pd.Series(list(set([k for (k,v) in dict1.items() if v > 1])))"
   ]
  },
  {
   "cell_type": "code",
   "execution_count": null,
   "metadata": {},
   "outputs": [],
   "source": [
    "a = b =c =d = 0\n",
    "uniqueid.apply(countnum)\n",
    "a,b,c,d"
   ]
  },
  {
   "cell_type": "markdown",
   "metadata": {},
   "source": [
    "a :STI in V1 and STI in V2:VN \n",
    "\n",
    "b :STI in V1 and no STI in V2:N\n",
    "\n",
    "c :No STI in V1 and STI in V2:N\n",
    "\n",
    "d :No STI in V1 and No STI in V2:N"
   ]
  },
  {
   "cell_type": "code",
   "execution_count": null,
   "metadata": {},
   "outputs": [],
   "source": []
  }
 ],
 "metadata": {
  "kernelspec": {
   "display_name": "Python 3",
   "language": "python",
   "name": "python3"
  },
  "language_info": {
   "codemirror_mode": {
    "name": "ipython",
    "version": 3
   },
   "file_extension": ".py",
   "mimetype": "text/x-python",
   "name": "python",
   "nbconvert_exporter": "python",
   "pygments_lexer": "ipython3",
   "version": "3.6.3"
  }
 },
 "nbformat": 4,
 "nbformat_minor": 2
}
