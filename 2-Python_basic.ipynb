{
 "cells": [
  {
   "cell_type": "markdown",
   "metadata": {},
   "source": [
    "**Brief Honor Code**. Do the homework on your own. You may discuss ideas with your classmates, but DO NOT copy the solutions from someone else or the Internet. If stuck, discuss with TA."
   ]
  },
  {
   "cell_type": "markdown",
   "metadata": {},
   "source": [
    "**1**. (10 points) \n",
    "\n",
    "Rewrite the following code into functional form using lambdas, map, filter and reduce."
   ]
  },
  {
   "cell_type": "code",
   "execution_count": 1,
   "metadata": {},
   "outputs": [
    {
     "data": {
      "text/plain": [
       "123"
      ]
     },
     "execution_count": 1,
     "metadata": {},
     "output_type": "execute_result"
    }
   ],
   "source": [
    "n = 10\n",
    "s = 10\n",
    "for i in range(n):\n",
    "    if i % 2:\n",
    "        s |= i**2\n",
    "s"
   ]
  },
  {
   "cell_type": "code",
   "execution_count": 2,
   "metadata": {},
   "outputs": [
    {
     "data": {
      "text/plain": [
       "123"
      ]
     },
     "execution_count": 2,
     "metadata": {},
     "output_type": "execute_result"
    }
   ],
   "source": [
    "from functools import reduce\n",
    "import numpy as np\n",
    "\n",
    "n = 10\n",
    "s = 10\n",
    "reduce(lambda x,y: x|y**2, np.append(s,list(filter(lambda x: x%2 == 1, np.array(range(n)))))) \n"
   ]
  },
  {
   "cell_type": "markdown",
   "metadata": {},
   "source": [
    "**2**. (10 points)\n",
    "\n",
    "Rewrite the code above as a `toolz` pipeline, using lambdas and curried or partially applied functions as necessary."
   ]
  },
  {
   "cell_type": "code",
   "execution_count": 3,
   "metadata": {},
   "outputs": [
    {
     "data": {
      "text/plain": [
       "123"
      ]
     },
     "execution_count": 3,
     "metadata": {},
     "output_type": "execute_result"
    }
   ],
   "source": [
    "import toolz as tz\n",
    "import toolz.curried as c\n",
    "from functools import partial, lru_cache\n",
    "\n",
    "n = 10\n",
    "s = 10\n",
    "tz.pipe(\n",
    "    np.append(s,range(n)),\n",
    "    #in this case, we want to keep the first value s = 10\n",
    "    c.filter(lambda x: x%2 == 1 or x == s),\n",
    "    c.reduce(lambda x,y: x|y**2),\n",
    ")"
   ]
  },
  {
   "cell_type": "markdown",
   "metadata": {},
   "source": [
    "**3**. (10 points) \n",
    "\n",
    "Repeat the Buffon's needle simulation from Lab01 as a function that takes the number of needels `n` as input and returns the estimate of $\\pi$. The function should use `numpy` and vectorization.  What is $\\pi$ for 1 million needles?"
   ]
  },
  {
   "cell_type": "code",
   "execution_count": 4,
   "metadata": {},
   "outputs": [],
   "source": [
    "def buffonFast(n):\n",
    "    \"\"\"\n",
    "    Simulate the pi using buffon needle\n",
    "    n is number of simulation\n",
    "    \"\"\"\n",
    "    d = 5\n",
    "    l = 2\n",
    "    xtip  = np.random.uniform(0,d/2.0,n) - (l/2.0)*np.cos(np.random.uniform(0,np.pi/2,n))\n",
    "    total = np.sum(xtip < 0)\n",
    "    est_pi = 2.0 *l*n/(d * total)\n",
    "    return est_pi"
   ]
  },
  {
   "cell_type": "code",
   "execution_count": 5,
   "metadata": {},
   "outputs": [
    {
     "data": {
      "text/plain": [
       "3.141307804971905"
      ]
     },
     "execution_count": 5,
     "metadata": {},
     "output_type": "execute_result"
    }
   ],
   "source": [
    "buffonFast(10**6)"
   ]
  },
  {
   "cell_type": "markdown",
   "metadata": {},
   "source": [
    "**4**. (20 points) \n",
    "\n",
    "Simpsons rule is given by the follwoing approximation\n",
    "\n",
    "![Simpsons](https://wikimedia.org/api/rest_v1/media/math/render/svg/a0cdf0804bb8810e4438cbea898dc7a2fedb3e57)\n",
    "\n",
    "- Write Simpsons rule as a function `simpsons(f, a, b, n=100)` where n is the number of equally spaced intervals from `a` to `b`.  (10 points)\n",
    "- Use this function to estimate the probability mass of the standard normal distribution between -1 and 1. Implement the PDF of the standard normal distribution $\\psi(x)$ as a function. (10 points)\n",
    "\n",
    "$$\n",
    "\\psi(x) = \\frac{1}{\\sqrt{2\\pi}}e^{-\\frac{1}{2}x^2}\n",
    "$$"
   ]
  },
  {
   "cell_type": "code",
   "execution_count": 6,
   "metadata": {},
   "outputs": [],
   "source": [
    "def normal(x):\n",
    "    \"\"\"\n",
    "    calculate standard normal pdf\n",
    "    x is the observation\n",
    "    \"\"\"\n",
    "    d = np.exp(-x**2/2)/np.sqrt(2*np.pi)\n",
    "    return d\n",
    "\n",
    "\n",
    "\n",
    "def simpsons(f,a,b, n = 100):\n",
    "    \"\"\"\n",
    "    'calculate' cdf for specified distribution using simpson method\n",
    "    f is the function you want to cdf for\n",
    "    a is the lower end of the value\n",
    "    b is the upper end of the value\n",
    "    n is number of equally spaced intervals from a to b\n",
    "    \"\"\"\n",
    "    #create 100 equal spaces\n",
    "    index  = np.linspace(a, b, n+1)\n",
    "    #calculate h and different parts of sum\n",
    "    h = (b-a) / n\n",
    "    fx0 = f(index[0])\n",
    "    f2sum = np.sum([f(index[i]) for i in np.arange(2,n,2)])\n",
    "    f3sum = np.sum([f(index[i]) for i in np.arange(1,n+1,2)])\n",
    "    fxn = f(index[n])\n",
    "    totalsum = h/3 *(fx0 + 2*f2sum + 4 * f3sum + fxn)\n",
    "    \n",
    "    return totalsum\n",
    "    "
   ]
  },
  {
   "cell_type": "code",
   "execution_count": 7,
   "metadata": {},
   "outputs": [
    {
     "data": {
      "text/plain": [
       "0.68268949299754922"
      ]
     },
     "execution_count": 7,
     "metadata": {},
     "output_type": "execute_result"
    }
   ],
   "source": [
    "simpsons(normal,-1,1, 100)"
   ]
  },
  {
   "cell_type": "markdown",
   "metadata": {},
   "source": [
    "**5**. (50 points)\n",
    "\n",
    "Write code to generate a plot similar to the following \n",
    "\n",
    "![automata](./automata1d.png)\n",
    "\n",
    "using the explanation for generation of 1D Cellular Automata found [here](http://mathworld.wolfram.com/ElementaryCellularAutomaton.html). You should only need to use standard Python, `numpy` and `matplotllib`.\n",
    "\n",
    "The input to the function making the plots should be a simple list of rules\n",
    "\n",
    "```python\n",
    "rules = [30, 54, 60, 62, 90, 94, 102, 110, 122, 126, \n",
    "         150, 158, 182, 188, 190, 220, 222, 250]\n",
    "make_plots(rules, niter, ncols)\n",
    "```\n",
    "\n",
    "You may, of course, write other helper functions to keep your code modular."
   ]
  },
  {
   "cell_type": "code",
   "execution_count": 8,
   "metadata": {},
   "outputs": [],
   "source": [
    "from matplotlib.ticker import IndexLocator\n",
    "import matplotlib.pyplot as plt\n",
    "\n",
    "def make_plots(rules, niter = 15, ncols = 3):\n",
    "    \"\"\"Run a Cellular Automata for specified niteriation for a given rule.\n",
    "       Rule can be the subset of the list [30, 54, 60, 62, 90, 94, 102, 110, 122, 126, \n",
    "                                           150, 158, 182, 188, 190, 220, 222, 250]\n",
    "      niter can be any positive value\n",
    "      ncols should be divisor of 18\n",
    "    \"\"\"\n",
    "    \n",
    "    def make_grid(rule, niter):\n",
    "        \"\"\"\n",
    "        Reference: http://www.credid.io/cellular-automata-python.html\n",
    "                   https://rosettacode.org/wiki/Elementary_cellular_automaton\n",
    "                   \n",
    "        creating grid for map using specified rule and iteriation\n",
    "        \"\"\"\n",
    "        mapper = dict(zip(range(7, -1, -1), map(int, list(bin(rule)[2:].zfill(8)))))\n",
    "        init = np.zeros(niter*2+1, 'int')\n",
    "        init[(niter*2+1)//2] = 1\n",
    "        grid = np.zeros((niter, len(init)), 'int')\n",
    "        grid[0] = init\n",
    "        old = np.r_[init[-1:], init, init[0:1]]\n",
    "        for i in range(1, niter):\n",
    "            nbrs = zip(old[0:], old[1:], old[2:])\n",
    "            cells = (int(''.join(map(str, nbr)), base=2) for nbr in nbrs)\n",
    "            new = np.array([mapper[cell] for cell in cells])\n",
    "            grid[i] = new\n",
    "            old = np.r_[new[-1:], new, new[0:1]]\n",
    "        return grid\n",
    "    \n",
    "    def plot_grid(rule, grid, ax):\n",
    "        \"\"\"\n",
    "        Reference: https://matplotlib.org/devdocs/api/_as_gen/matplotlib.pyplot.imshow.html\n",
    "                   https://matplotlib.org/api/ticker_api.html\n",
    "                   https://matplotlib.org/api/_as_gen/matplotlib.pyplot.subplot.html\n",
    "        Drawing grid with different \"style/layer\"\n",
    "        \"\"\"\n",
    "        ax.grid(True, color='grey')\n",
    "        ax.imshow(grid)\n",
    "        ax.xaxis.set_major_locator(IndexLocator(1, 0))\n",
    "        ax.yaxis.set_major_locator(IndexLocator(1, 0))\n",
    "        ax.tick_params(axis = 'both', which = 'both', bottom = 'off',\n",
    "                      top = 'off', labelbottom = 'off', right = 'off',\n",
    "                      left = 'off', labelleft = 'off')\n",
    "        ax.set_title('Rule %d' % rule)\n",
    "        \n",
    "    rules = rules.reshape((-1, ncols))\n",
    "\n",
    "    nrows, ncols = rules.shape\n",
    "    fig, axes = plt.subplots(nrows, ncols, figsize=(ncols*3, nrows*2))\n",
    "    \n",
    "    \n",
    "    for i in range(nrows):\n",
    "        for j in range(ncols):\n",
    "            grid = make_grid(rules[i, j], niter)\n",
    "            plot_grid(rules[i, j], grid, ax=axes[i,j])\n",
    "    \n",
    "    plt.tight_layout()"
   ]
  },
  {
   "cell_type": "code",
   "execution_count": 9,
   "metadata": {},
   "outputs": [
    {
     "data": {
      "image/png": "[encoded data removed]",
      "text/plain": [
       "<matplotlib.figure.Figure at 0x7f5f3e5b3c88>"
      ]
     },
     "metadata": {},
     "output_type": "display_data"
    }
   ],
   "source": [
    "make_plots(rules = np.array([30, 54, 60, 62, 90, 94, 102, 110, 122, 126, \n",
    "                  150, 158, 182, 188, 190, 220, 222, 250]))"
   ]
  },
  {
   "cell_type": "code",
   "execution_count": null,
   "metadata": {},
   "outputs": [],
   "source": []
  }
 ],
 "metadata": {
  "kernelspec": {
   "display_name": "Python 3",
   "language": "python",
   "name": "python3"
  },
  "language_info": {
   "codemirror_mode": {
    "name": "ipython",
    "version": 3
   },
   "file_extension": ".py",
   "mimetype": "text/x-python",
   "name": "python",
   "nbconvert_exporter": "python",
   "pygments_lexer": "ipython3",
   "version": "3.6.3"
  }
 },
 "nbformat": 4,
 "nbformat_minor": 2
}
